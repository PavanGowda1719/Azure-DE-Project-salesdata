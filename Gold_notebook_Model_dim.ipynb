{
 "cells": [
  {
   "cell_type": "markdown",
   "metadata": {
    "application/vnd.databricks.v1+cell": {
     "cellMetadata": {},
     "inputWidgets": {},
     "nuid": "8255a0b7-ad26-449a-ac3a-839374bac7d7",
     "showTitle": false,
     "tableResultSettingsMap": {},
     "title": ""
    }
   },
   "source": [
    "## **Dim table for Model**\n",
    "\n",
    "**Creating model dimension table and insrting surrogate key to it.**"
   ]
  },
  {
   "cell_type": "code",
   "execution_count": 0,
   "metadata": {
    "application/vnd.databricks.v1+cell": {
     "cellMetadata": {
      "byteLimit": 2048000,
      "rowLimit": 10000
     },
     "inputWidgets": {},
     "nuid": "0d7b3049-651a-45ad-9311-289b461330cd",
     "showTitle": false,
     "tableResultSettingsMap": {},
     "title": ""
    }
   },
   "outputs": [],
   "source": [
    "from pyspark.sql.functions import *\n",
    "from delta.tables import *\n",
    "\n",
    "#Reading data from the silver table\n",
    "\n",
    "df= spark.sql(\"select * from ansh_lamba.salesdata.silver\")\n",
    "\n",
    "display(df.limit(7))"
   ]
  },
  {
   "cell_type": "markdown",
   "metadata": {
    "application/vnd.databricks.v1+cell": {
     "cellMetadata": {},
     "inputWidgets": {},
     "nuid": "27ab9f48-918c-4eb3-8f39-e40586923090",
     "showTitle": false,
     "tableResultSettingsMap": {},
     "title": ""
    }
   },
   "source": [
    "**Reading data from source and target model dim table to create surrogate key**"
   ]
  },
  {
   "cell_type": "code",
   "execution_count": 0,
   "metadata": {
    "application/vnd.databricks.v1+cell": {
     "cellMetadata": {
      "byteLimit": 2048000,
      "rowLimit": 10000
     },
     "inputWidgets": {},
     "nuid": "51e98212-3630-47bc-9ab2-8e562a424995",
     "showTitle": false,
     "tableResultSettingsMap": {},
     "title": ""
    }
   },
   "outputs": [],
   "source": [
    "## source table\n",
    "\n",
    "df_source = spark.sql(\"select distinct(Model_ID), Model from ansh_lamba.salesdata.silver\")\n",
    " \n",
    "display(df_source.limit(5))"
   ]
  },
  {
   "cell_type": "code",
   "execution_count": 0,
   "metadata": {
    "application/vnd.databricks.v1+cell": {
     "cellMetadata": {
      "byteLimit": 2048000,
      "rowLimit": 10000
     },
     "inputWidgets": {},
     "nuid": "2f989ce6-4840-4c77-b5e3-668e24dd4192",
     "showTitle": false,
     "tableResultSettingsMap": {},
     "title": ""
    }
   },
   "outputs": [],
   "source": [
    "# reading data from target table\n",
    "\n",
    "if spark.catalog.tableExists(\"ansh_lamba.salesdata.gold\"):\n",
    "\n",
    "    df_target = spark.sql(\"select Model_ID , Model , Dim_model_key from ansh_lamba.salesdata.gold\")\n",
    "\n",
    "else:\n",
    "\n",
    "    df_target = spark.sql(\"select 1 As Dim_model_key, Model_ID, Model from ansh_lamba.salesdata.silver where 0=1\")\n",
    "\n",
    "display(df_target.limit(5))"
   ]
  },
  {
   "cell_type": "code",
   "execution_count": 0,
   "metadata": {
    "application/vnd.databricks.v1+cell": {
     "cellMetadata": {
      "byteLimit": 2048000,
      "rowLimit": 10000
     },
     "inputWidgets": {},
     "nuid": "3a04d5b1-cbc3-49d3-9c9a-c5852b3dfccf",
     "showTitle": false,
     "tableResultSettingsMap": {},
     "title": ""
    }
   },
   "outputs": [],
   "source": [
    "# reading data from target table\n",
    "\n",
    "# if spark.catalog.tableExists(\"ansh_lamba.salesdata.gold\"):\n",
    "\n",
    "#     df_target = spark.sql(\"select Model_ID , Model , Dim_model_key from ansh_lamba.salesdata.silver\")\n",
    "\n",
    "# else:\n",
    "\n",
    "#     df_target = spark.sql(\"select 1 As Dim_model_key, Model_ID, Model from parquet.`abfss://salesdata@adlssouthindiastorage.dfs.core.windows.net/silver/` where 0=1\")\n",
    "\n",
    "# df_target.show()"
   ]
  },
  {
   "cell_type": "markdown",
   "metadata": {
    "application/vnd.databricks.v1+cell": {
     "cellMetadata": {},
     "inputWidgets": {},
     "nuid": "47685580-4dfe-40d6-bef4-ebef1be4a4d3",
     "showTitle": false,
     "tableResultSettingsMap": {},
     "title": ""
    }
   },
   "source": [
    "**Do Left Join to Seggrgate the new and old data**"
   ]
  },
  {
   "cell_type": "code",
   "execution_count": 0,
   "metadata": {
    "application/vnd.databricks.v1+cell": {
     "cellMetadata": {
      "byteLimit": 2048000,
      "rowLimit": 10000
     },
     "inputWidgets": {},
     "nuid": "10f67fa8-3c2b-424c-b291-11cb16ea41de",
     "showTitle": false,
     "tableResultSettingsMap": {},
     "title": ""
    }
   },
   "outputs": [],
   "source": [
    "df_filter = df_source.join(df_target, df_source.Model_ID == df_target.Model_ID , \"left\").select(df_source.Model_ID, df_source.Model, df_target.Dim_model_key)\n",
    "\n",
    "display(df_filter.limit(5))"
   ]
  },
  {
   "cell_type": "code",
   "execution_count": 0,
   "metadata": {
    "application/vnd.databricks.v1+cell": {
     "cellMetadata": {
      "byteLimit": 2048000,
      "rowLimit": 10000
     },
     "inputWidgets": {},
     "nuid": "4929a5ef-0d00-41a4-82ac-bee29d03cc0b",
     "showTitle": false,
     "tableResultSettingsMap": {},
     "title": ""
    }
   },
   "outputs": [],
   "source": [
    "# Old Data from df_filter\n",
    "\n",
    "df_filter_old = df_filter.filter(df_filter.Dim_model_key.isNotNull())\n",
    "\n",
    "display(df_filter_old.limit(5))"
   ]
  },
  {
   "cell_type": "code",
   "execution_count": 0,
   "metadata": {
    "application/vnd.databricks.v1+cell": {
     "cellMetadata": {
      "byteLimit": 2048000,
      "rowLimit": 10000
     },
     "inputWidgets": {},
     "nuid": "e2f91ef2-8ef9-40ae-b1f7-6b2767a17251",
     "showTitle": false,
     "tableResultSettingsMap": {},
     "title": ""
    }
   },
   "outputs": [],
   "source": [
    "# New data from df_filer dataframe\n",
    "\n",
    "df_filter_new = df_filter.filter(df_filter[\"Dim_model_key\"].isNull()).select(col(\"Model_ID\"), col(\"Model\"))\n",
    "\n",
    "display(df_filter_new.limit(5))"
   ]
  },
  {
   "cell_type": "markdown",
   "metadata": {
    "application/vnd.databricks.v1+cell": {
     "cellMetadata": {},
     "inputWidgets": {},
     "nuid": "69b8a85b-9d21-40fc-a5ef-92f81aabc593",
     "showTitle": false,
     "tableResultSettingsMap": {},
     "title": ""
    }
   },
   "source": [
    "### **Creating Surrogate Key**\n",
    "\n",
    "**Note - First we need find out maximum value of dim_model_key /**\n",
    "\n",
    "**for initial load - zero / \n",
    "for increamenta load - Max dim_key from target table**"
   ]
  },
  {
   "cell_type": "code",
   "execution_count": 0,
   "metadata": {
    "application/vnd.databricks.v1+cell": {
     "cellMetadata": {
      "byteLimit": 2048000,
      "rowLimit": 10000
     },
     "inputWidgets": {},
     "nuid": "e29a6231-727f-4b7a-b661-414dcbf0c91d",
     "showTitle": false,
     "tableResultSettingsMap": {},
     "title": ""
    }
   },
   "outputs": [],
   "source": [
    "# finding maximun vaue.\n",
    "\n",
    "if spark.catalog.tableExists(\"ansh_lamba.salesdata.gold\"):\n",
    "\n",
    "    max_value = spark.sql(\"select max(Dim_model_key) as max_value from ansh_lamba.salesdata.gold\")\n",
    "    max_value = max_value.collect()[0]['max_value']\n",
    "\n",
    "    print(f'max value is {max_value}')\n",
    "\n",
    "else:\n",
    "    max_value = 1\n",
    "\n",
    "    print(f'max value is {max_value}')"
   ]
  },
  {
   "cell_type": "code",
   "execution_count": 0,
   "metadata": {
    "application/vnd.databricks.v1+cell": {
     "cellMetadata": {
      "byteLimit": 2048000,
      "rowLimit": 10000
     },
     "inputWidgets": {},
     "nuid": "90661eac-376d-4656-9754-01f104e0a0a6",
     "showTitle": false,
     "tableResultSettingsMap": {},
     "title": ""
    }
   },
   "outputs": [],
   "source": [
    "# Inserting surrogate key to the new data\n",
    "\n",
    "df_filter_new = df_filter_new.withColumn(\"Dim_model_key\", max_value + monotonically_increasing_id())\n",
    "\n",
    "display(df_filter_new)"
   ]
  },
  {
   "cell_type": "markdown",
   "metadata": {
    "application/vnd.databricks.v1+cell": {
     "cellMetadata": {},
     "inputWidgets": {},
     "nuid": "1d816046-173c-4e51-8b7c-dc1d5e6a5aa2",
     "showTitle": false,
     "tableResultSettingsMap": {},
     "title": ""
    }
   },
   "source": [
    "### **Union old and new data**"
   ]
  },
  {
   "cell_type": "code",
   "execution_count": 0,
   "metadata": {
    "application/vnd.databricks.v1+cell": {
     "cellMetadata": {
      "byteLimit": 2048000,
      "rowLimit": 10000
     },
     "inputWidgets": {},
     "nuid": "b1dbf0ff-fe35-44a8-9ec0-3b94b73aaa2e",
     "showTitle": false,
     "tableResultSettingsMap": {},
     "title": ""
    }
   },
   "outputs": [],
   "source": [
    "df_union_new_old = df_filter_old.union(df_filter_new)\n",
    "\n",
    "display(df_union_new_old)"
   ]
  },
  {
   "cell_type": "markdown",
   "metadata": {
    "application/vnd.databricks.v1+cell": {
     "cellMetadata": {},
     "inputWidgets": {},
     "nuid": "54ee9928-c033-42cd-a2a5-366deaef4f4f",
     "showTitle": false,
     "tableResultSettingsMap": {},
     "title": ""
    }
   },
   "source": [
    "## **SCD Type 1,  Using upsert increamentally loading into dim model table**"
   ]
  },
  {
   "cell_type": "code",
   "execution_count": 0,
   "metadata": {
    "application/vnd.databricks.v1+cell": {
     "cellMetadata": {
      "byteLimit": 2048000,
      "rowLimit": 10000
     },
     "inputWidgets": {},
     "nuid": "86cb51db-850e-4f39-a5b2-a7add84d5a2a",
     "showTitle": false,
     "tableResultSettingsMap": {},
     "title": ""
    }
   },
   "outputs": [],
   "source": [
    "if spark.catalog.tableExists(\"ansh_lamba.salesdata.gold\"):\n",
    "\n",
    "  df_gold_dim_model_table = DeltaTable.forName(spark, \"ansh_lamba.salesdata.gold\")\n",
    "\n",
    "  df_gold_dim_model_table.alias(\"target\") \\\n",
    "    .merge(df_union_new_old.alias(\"source\"), \"target.Dim_model_key = source.Dim_model_key\") \\\n",
    "    .whenMatchedUpdateAll() \\\n",
    "    .whenNotMatchedInsertAll() \\\n",
    "    .execute()\n",
    "\n",
    "else:\n",
    "\n",
    "  df_union_new_old.write.mode(\"overwrite\").option(\"path\", \"abfss://salesdata@adlssouthindiastorage.dfs.core.windows.net/gold/\").saveAsTable(\"ansh_lamba.salesdata.gold\")"
   ]
  },
  {
   "cell_type": "code",
   "execution_count": 0,
   "metadata": {
    "application/vnd.databricks.v1+cell": {
     "cellMetadata": {
      "byteLimit": 2048000,
      "implicitDf": true,
      "rowLimit": 10000
     },
     "inputWidgets": {},
     "nuid": "4c033e9e-622a-4aa0-b652-fe82555541d3",
     "showTitle": false,
     "tableResultSettingsMap": {},
     "title": ""
    }
   },
   "outputs": [],
   "source": [
    "%sql\n",
    "select * from ansh_lamba.salesdata.gold;"
   ]
  }
 ],
 "metadata": {
  "application/vnd.databricks.v1+notebook": {
   "computePreferences": null,
   "dashboards": [],
   "environmentMetadata": {
    "base_environment": "",
    "client": "1"
   },
   "language": "python",
   "notebookMetadata": {
    "mostRecentlyExecutedCommandWithImplicitDF": {
     "commandId": 5902525397968569,
     "dataframes": [
      "_sqldf"
     ]
    },
    "pythonIndentUnit": 4
   },
   "notebookName": "Gold_notebook_Model_dim",
   "widgets": {}
  },
  "language_info": {
   "name": "python"
  }
 },
 "nbformat": 4,
 "nbformat_minor": 0
}
